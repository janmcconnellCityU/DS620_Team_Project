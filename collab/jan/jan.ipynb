{
 "cells": [
  {
   "cell_type": "code",
   "execution_count": 2,
   "id": "82211b1e",
   "metadata": {},
   "outputs": [],
   "source": [
    "# ==========================================================\n",
    "# DS620 Team Project - AudioMNIST Deep Learning\n",
    "# Setup and Imports (Jan's Environment)\n",
    "# ==========================================================\n",
    "\n",
    "# --- Core Python and OS utilities ---\n",
    "import os               # for directory and file management\n",
    "import sys              # for accessing system-level information\n",
    "import pathlib          # for cross-platform path handling\n",
    "\n",
    "# --- Numerical and data handling ---\n",
    "import numpy as np      # numerical operations (arrays, signal processing)\n",
    "import pandas as pd     # data manipulation and organization\n",
    "\n",
    "# --- Visualization ---\n",
    "import matplotlib.pyplot as plt  # visualizations for audio signals and spectrograms\n",
    "\n",
    "# --- Audio processing ---\n",
    "import librosa          # audio loading, feature extraction, and transformation\n",
    "import librosa.display  # visualization support for audio data\n",
    "\n",
    "# --- Deep learning framework ---\n",
    "import tensorflow as tf                             # main ML/DL framework\n",
    "from tensorflow.keras import layers, models         # used for CNN and RNN architectures"
   ]
  },
  {
   "cell_type": "code",
   "execution_count": 7,
   "id": "c7b8b348",
   "metadata": {},
   "outputs": [
    {
     "name": "stdout",
     "output_type": "stream",
     "text": [
      "✅ Data directory found: C:\\Users\\JanMc\\Dropbox\\Education\\_GitHub_coursework\\janmcconnellCityU-coursework\\DS620_Team_Project\\data\\raw\n",
      "📁 Contains 30000 audio files.\n",
      "📊 Visualizations will be saved to: C:\\Users\\JanMc\\Dropbox\\Education\\_GitHub_coursework\\janmcconnellCityU-coursework\\DS620_Team_Project\\collab\\jan\\visualizations\n"
     ]
    }
   ],
   "source": [
    "# ==========================================================\n",
    "# Directory Setup (Local Paths)\n",
    "# ==========================================================\n",
    "\n",
    "# Define project directories\n",
    "BASE_DIR = pathlib.Path(r\"C:\\Users\\JanMc\\Dropbox\\Education\\_GitHub_coursework\\janmcconnellCityU-coursework\\DS620_Team_Project\")\n",
    "DATA_DIR = BASE_DIR / \"data\" / \"raw\"                   # location of raw AudioMNIST files\n",
    "SPECT_DIR = BASE_DIR / \"data\" / \"spectrograms\"         # folder for generated spectrograms\n",
    "PROC_DIR = BASE_DIR / \"data\" / \"processed\"             # folder for processed/feature data\n",
    "VISUAL_DIR = BASE_DIR / \"collab\" / \"jan\" / \"visualizations\"  # folder for saved visual outputs\n",
    "\n",
    "# Create directories if they don't exist\n",
    "for d in [SPECT_DIR, PROC_DIR, VISUAL_DIR]:\n",
    "    d.mkdir(parents=True, exist_ok=True)\n",
    "\n",
    "# Verify data directory\n",
    "if DATA_DIR.exists():\n",
    "    wav_files = list(DATA_DIR.rglob(\"*.wav\"))\n",
    "    print(f\"✅ Data directory found: {DATA_DIR}\")\n",
    "    print(f\"📁 Contains {len(wav_files)} audio files.\")\n",
    "else:\n",
    "    print(f\"⚠️ Data directory not found: {DATA_DIR}\")\n",
    "\n",
    "# Confirm visualization output path\n",
    "print(f\"📊 Visualizations will be saved to: {VISUAL_DIR}\")"
   ]
  }
 ],
 "metadata": {
  "kernelspec": {
   "display_name": "tf-env",
   "language": "python",
   "name": "python3"
  },
  "language_info": {
   "codemirror_mode": {
    "name": "ipython",
    "version": 3
   },
   "file_extension": ".py",
   "mimetype": "text/x-python",
   "name": "python",
   "nbconvert_exporter": "python",
   "pygments_lexer": "ipython3",
   "version": "3.10.11"
  }
 },
 "nbformat": 4,
 "nbformat_minor": 5
}
